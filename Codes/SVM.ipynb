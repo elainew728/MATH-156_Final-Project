{
 "cells": [
  {
   "cell_type": "code",
   "execution_count": null,
   "id": "db81781f",
   "metadata": {},
   "outputs": [],
   "source": [
    "import pandas as pd\n",
    "import numpy as np\n",
    "from sklearn import svm\n",
    "from sklearn.model_selection import train_test_split\n",
    "\n",
    "#remember to edit your file path\n",
    "df = pd.read_csv('../nasdaq_clean.csv',encoding = 'utf-8')\n",
    "df.columns = ['date','close','trend']\n",
    "df.head()"
   ]
  },
  {
   "cell_type": "code",
   "execution_count": null,
   "id": "f4d4ab95",
   "metadata": {},
   "outputs": [],
   "source": [
    "#Uncomment this section if trying to use stock prices of the three companies\n",
    "\n",
    "#df_apple = pd.read_csv('../apple.csv',encoding = 'utf-8')\n",
    "#df_apple.columns = ['date','close']\n",
    "#df_tesla = pd.read_csv('../tesla.csv',encoding = 'utf-8')\n",
    "#df_tesla.columns = ['date','close']\n",
    "#df_google = pd.read_csv('../google.csv',encoding = 'utf-8')\n",
    "#df_google.columns = ['date','close']\n",
    "\n",
    "#df = pd.merge(left = df, right = df_apple, on=['date'])\n",
    "#df = pd.merge(left = df, right = df_tesla, on=['date'])\n",
    "#df = pd.merge(left = df, right = df_google, on=['date'])\n",
    "\n",
    "#cleaning, dropping rows with nan values\n",
    "#df.dropna(axis = 0, inplace = True)\n",
    "#df.reset_index(drop = True, inplace = True)\n",
    "#df.tail()\n",
    "\n",
    "#df.columns = ['date', 'nasdaq', 'trend', 'apple', 'tesla', 'google']\n",
    "#df = df[['date', 'nasdaq','apple', 'tesla', 'google', 'trend']]\n",
    "#df.tail()\n",
    "\n",
    "#df.to_csv('../nasdaq_training.csv',encoding = 'utf-8')\n",
    "#df = pd.read_csv('../nasdaq_training.csv',encoding = 'utf-8')"
   ]
  },
  {
   "cell_type": "code",
   "execution_count": null,
   "id": "9ff1a7f2",
   "metadata": {},
   "outputs": [],
   "source": [
    "X = []\n",
    "y=[]\n",
    "i = 0\n",
    "start_date = '11/26/19'\n",
    "while df.loc[i,'date']!= start_date:\n",
    "    i += 1\n",
    "\n",
    "n = 3 #number of daily historical data to include as features\n",
    "while i < 1510:\n",
    "    j = i - n\n",
    "    X.append(df.loc[j:i-1,'nasdaq'].values.flatten().tolist()) #+df.loc[j:i-1,'apple'].values.flatten().tolist()+df.loc[j:i-1,'google'].values.flatten().tolist())\n",
    "    y.append(int(df.loc[i,'trend']))\n",
    "    i += 1\n",
    "\n",
    "X"
   ]
  },
  {
   "cell_type": "code",
   "execution_count": null,
   "id": "75323cfd",
   "metadata": {},
   "outputs": [],
   "source": [
    "size = len(y)\n",
    "test_size = 90/size"
   ]
  },
  {
   "cell_type": "code",
   "execution_count": null,
   "id": "715c00fd",
   "metadata": {},
   "outputs": [],
   "source": [
    "#tuning hyper parameter gamma\n",
    "#import statistics as stats\n",
    "#maximum = 0\n",
    "#ans = 0\n",
    "#for gam in [1e-4,2e-4,3e-4,4e-4,5e-4,6e-4,7e-4,8e-4,9e-4,1e-5,2e-5,3e-5,4e-5,5e-5,6e-5,7e-5,8e-5,9e-5]:\n",
    "#    rec = []\n",
    "#    X_train, X_val, y_train, y_val = train_test_split(X, y, test_size=0.07, random_state=42)\n",
    "#    clf = svm.SVC(kernel = \"rbf\", C = 1e3, gamma = gam)\n",
    "#    temp = clf.fit(X_train,y_train).score(X_val,y_val)\n",
    "#    if temp > maximum:\n",
    "#        maximum = temp\n",
    "#        ans = gam\n",
    "#ans"
   ]
  },
  {
   "cell_type": "code",
   "execution_count": null,
   "id": "306be93e",
   "metadata": {
    "scrolled": true
   },
   "outputs": [],
   "source": [
    "#need to adjust test_size to keep size of the valid dataset to 90 days\n",
    "X_train, X_val, y_train, y_val = train_test_split(X, y, test_size=test_size, random_state=42)\n",
    "clf = svm.SVC(kernel = \"rbf\", C = 1e3, gamma = 5e-4)\n",
    "clf.fit(X_train,y_train).score(X_val,y_val)"
   ]
  },
  {
   "cell_type": "code",
   "execution_count": null,
   "id": "545cee17",
   "metadata": {},
   "outputs": [],
   "source": [
    "#visualize prediction result\n",
    "#X_pred = clf.predict(X_val)\n",
    "#X_pred"
   ]
  },
  {
   "cell_type": "code",
   "execution_count": null,
   "id": "781ecd97",
   "metadata": {},
   "outputs": [],
   "source": [
    "#error = 0\n",
    "#for ct in range(len(X_pred)):\n",
    "#    if X_pred[ct]!=y_val[ct]:\n",
    "#        error += 1\n",
    "#1-(error/(len(X_pred)))"
   ]
  },
  {
   "cell_type": "code",
   "execution_count": null,
   "id": "e479e604",
   "metadata": {},
   "outputs": [],
   "source": []
  }
 ],
 "metadata": {
  "kernelspec": {
   "display_name": "Python 3",
   "language": "python",
   "name": "python3"
  },
  "language_info": {
   "codemirror_mode": {
    "name": "ipython",
    "version": 3
   },
   "file_extension": ".py",
   "mimetype": "text/x-python",
   "name": "python",
   "nbconvert_exporter": "python",
   "pygments_lexer": "ipython3",
   "version": "3.8.5"
  }
 },
 "nbformat": 4,
 "nbformat_minor": 5
}
